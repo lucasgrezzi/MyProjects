{
  "nbformat": 4,
  "nbformat_minor": 0,
  "metadata": {
    "colab": {
      "provenance": [],
      "mount_file_id": "1ByTLdWZRFBsTEEU0bID0qb2QWt-J0gs9",
      "authorship_tag": "ABX9TyO+FICyTL2i0WSK8mdJGqnf",
      "include_colab_link": true
    },
    "kernelspec": {
      "name": "python3",
      "display_name": "Python 3"
    },
    "language_info": {
      "name": "python"
    }
  },
  "cells": [
    {
      "cell_type": "markdown",
      "metadata": {
        "id": "view-in-github",
        "colab_type": "text"
      },
      "source": [
        "<a href=\"https://colab.research.google.com/github/lucasgrezzi/MyProjects/blob/main/var_sarscov2.ipynb\" target=\"_parent\"><img src=\"https://colab.research.google.com/assets/colab-badge.svg\" alt=\"Open In Colab\"/></a>"
      ]
    },
    {
      "cell_type": "markdown",
      "source": [
        "Instalação dos programas necessários\n",
        "---\n",
        "\n"
      ],
      "metadata": {
        "id": "urOWwjwpd0iR"
      }
    },
    {
      "cell_type": "code",
      "execution_count": null,
      "metadata": {
        "collapsed": true,
        "id": "mz3CWotOPg5P"
      },
      "outputs": [],
      "source": [
        "!pip install biopython pandas matplotlib ete3"
      ]
    },
    {
      "cell_type": "markdown",
      "source": [
        "Se for usar o NCBI, você pode baixar sequências genômicas com o Biopython:"
      ],
      "metadata": {
        "id": "e8b2hb96eE2Y"
      }
    },
    {
      "cell_type": "code",
      "source": [
        "from Bio import Entrez, SeqIO\n",
        "\n",
        "Entrez.email = \"lucasgrezzi@gmail.com\"  # Defina seu e-mail para acesso ao NCBI\n",
        "\n",
        "# Buscar sequências do SARS-CoV-2 de um país específico\n",
        "search_query = \"SARS-CoV-2[Organism] AND Brazil[Location] AND 2023[Publication Date]\"\n",
        "handle = Entrez.esearch(db=\"nucleotide\", term=search_query, retmax=10)\n",
        "record = Entrez.read(handle)\n",
        "ids = record[\"IdList\"]\n",
        "\n",
        "# Baixar as sequências\n",
        "sequences = []\n",
        "for seq_id in ids:\n",
        "    handle = Entrez.efetch(db=\"nucleotide\", id=seq_id, rettype=\"fasta\", retmode=\"text\")\n",
        "    seq_record = SeqIO.read(handle, \"fasta\")\n",
        "    sequences.append(seq_record)\n",
        "\n",
        "# Salvar em um arquivo FASTA\n",
        "SeqIO.write(sequences, \"sars_cov2_sequences.fasta\", \"fasta\")\n"
      ],
      "metadata": {
        "id": "4EErN2JQArpo"
      },
      "execution_count": null,
      "outputs": []
    },
    {
      "cell_type": "markdown",
      "source": [
        "(Custalo) Após baixar os genomas, um alinhamento é necessário para detectar mutações."
      ],
      "metadata": {
        "id": "gAbk_qlUeW_G"
      }
    },
    {
      "cell_type": "code",
      "source": [
        "!apt install clustalo -y"
      ],
      "metadata": {
        "collapsed": true,
        "id": "bMAR3j6jDayL"
      },
      "execution_count": null,
      "outputs": []
    },
    {
      "cell_type": "code",
      "source": [
        "clustal_cline = ClustalOmegaCommandline(infile=\"sars_cov2_sequences.fasta\",\n",
        "                                        outfile=\"sars_cov2_aligned.fasta\",\n",
        "                                        verbose=True, auto=True, threads=1)\n",
        "\n",
        "stdout, stderr = clustal_cline()\n",
        "print(stdout)"
      ],
      "metadata": {
        "collapsed": true,
        "id": "Cf_dN2tRMoJd"
      },
      "execution_count": null,
      "outputs": []
    },
    {
      "cell_type": "markdown",
      "source": [
        "Identificação de Mutações\n",
        "\n",
        "Podemos comparar as sequências alinhadas com a sequência de referência Wuhan-Hu-1 para encontrar mutações:"
      ],
      "metadata": {
        "id": "qQCcD0hCehgt"
      }
    },
    {
      "cell_type": "code",
      "source": [
        "from Bio import AlignIO\n",
        "\n",
        "alignment = AlignIO.read(\"sars_cov2_aligned.fasta\", \"fasta\")\n",
        "reference = alignment[0].seq  # Primeira sequência como referência\n",
        "\n",
        "# Comparar com outras sequências\n",
        "for record in alignment[1:]:\n",
        "    diffs = [i for i in range(len(reference)) if reference[i] != record.seq[i]]\n",
        "    print(f\"{record.id} tem {len(diffs)} mutações nas posições {diffs}\")"
      ],
      "metadata": {
        "collapsed": true,
        "id": "-PFcgz4rapu1"
      },
      "execution_count": null,
      "outputs": []
    },
    {
      "cell_type": "markdown",
      "source": [
        "Instalar o IQ-TREE corretamente no Google Colab\n",
        "\n",
        "No seu notebook do Google Colab, rode o seguinte código:\n",
        "\n",
        "\n"
      ],
      "metadata": {
        "id": "3OEqaQhOesnt"
      }
    },
    {
      "cell_type": "code",
      "source": [
        "# Baixar e extrair o IQ-TREE\n",
        "!wget https://github.com/iqtree/iqtree2/releases/download/v2.2.2.7/iqtree-2.2.2.7-Linux.tar.gz\n",
        "!tar -xvf iqtree-2.2.2.7-Linux.tar.gz\n",
        "\n",
        "# Mover o executável correto para um diretório acessível\n",
        "!mv iqtree-2.2.2.7-Linux/bin/iqtree2 /usr/local/bin/iqtree\n",
        "!chmod +x /usr/local/bin/iqtree\n"
      ],
      "metadata": {
        "collapsed": true,
        "id": "WrzyDpaPbgNu"
      },
      "execution_count": null,
      "outputs": []
    },
    {
      "cell_type": "markdown",
      "source": [
        "Agora você pode rodar a análise filogenética com o IQ-TREE usando seu alinhamento:\n",
        "\n"
      ],
      "metadata": {
        "id": "qswJ1QiIe0Ef"
      }
    },
    {
      "cell_type": "code",
      "source": [
        "!iqtree -s sars_cov2_aligned.fasta -m HKY+G -bb 1000 -nt AUTO\n"
      ],
      "metadata": {
        "collapsed": true,
        "id": "9syyc7WGbYGV"
      },
      "execution_count": null,
      "outputs": []
    },
    {
      "cell_type": "markdown",
      "source": [
        "Visualizar os Dados com Matplotlib e Biopython\n",
        "Se quiser algo mais simples, podemos usar o Matplotlib para exibir a árvore de forma básica:"
      ],
      "metadata": {
        "id": "cJFzLBDKe7CM"
      }
    },
    {
      "cell_type": "code",
      "source": [
        "import matplotlib.pyplot as plt\n",
        "from Bio import Phylo\n",
        "\n",
        "# Carregar a árvore gerada pelo IQ-TREE\n",
        "tree = Phylo.read(\"sars_cov2_aligned.fasta.treefile\", \"newick\")\n",
        "\n",
        "# Criar figura\n",
        "fig = plt.figure(figsize=(10, 5))\n",
        "ax = fig.add_subplot(1, 1, 1)\n",
        "\n",
        "# Desenhar árvore\n",
        "Phylo.draw(tree, axes=ax)\n"
      ],
      "metadata": {
        "colab": {
          "base_uri": "https://localhost:8080/",
          "height": 465
        },
        "id": "qkQgmWnNb75d",
        "outputId": "0489e087-a43c-48e4-d44a-600d1747833d"
      },
      "execution_count": null,
      "outputs": [
        {
          "output_type": "display_data",
          "data": {
            "text/plain": [
              "<Figure size 1000x500 with 1 Axes>"
            ],
            "image/png": "[encoded data removed]"
          },
          "metadata": {}
        }
      ]
    },
    {
      "cell_type": "code",
      "source": [
        "from google.colab import files\n",
        "files.download(\"sars_cov2_aligned.fasta.treefile\")"
      ],
      "metadata": {
        "colab": {
          "base_uri": "https://localhost:8080/",
          "height": 17
        },
        "id": "Hn96V8CbcNJX",
        "outputId": "9a5c1b2d-c00a-450c-eabb-0531c1231152"
      },
      "execution_count": null,
      "outputs": [
        {
          "output_type": "display_data",
          "data": {
            "text/plain": [
              "<IPython.core.display.Javascript object>"
            ],
            "application/javascript": [
              "\n",
              "    async function download(id, filename, size) {\n",
              "      if (!google.colab.kernel.accessAllowed) {\n",
              "        return;\n",
              "      }\n",
              "      const div = document.createElement('div');\n",
              "      const label = document.createElement('label');\n",
              "      label.textContent = `Downloading \"${filename}\": `;\n",
              "      div.appendChild(label);\n",
              "      const progress = document.createElement('progress');\n",
              "      progress.max = size;\n",
              "      div.appendChild(progress);\n",
              "      document.body.appendChild(div);\n",
              "\n",
              "      const buffers = [];\n",
              "      let downloaded = 0;\n",
              "\n",
              "      const channel = await google.colab.kernel.comms.open(id);\n",
              "      // Send a message to notify the kernel that we're ready.\n",
              "      channel.send({})\n",
              "\n",
              "      for await (const message of channel.messages) {\n",
              "        // Send a message to notify the kernel that we're ready.\n",
              "        channel.send({})\n",
              "        if (message.buffers) {\n",
              "          for (const buffer of message.buffers) {\n",
              "            buffers.push(buffer);\n",
              "            downloaded += buffer.byteLength;\n",
              "            progress.value = downloaded;\n",
              "          }\n",
              "        }\n",
              "      }\n",
              "      const blob = new Blob(buffers, {type: 'application/binary'});\n",
              "      const a = document.createElement('a');\n",
              "      a.href = window.URL.createObjectURL(blob);\n",
              "      a.download = filename;\n",
              "      div.appendChild(a);\n",
              "      a.click();\n",
              "      div.remove();\n",
              "    }\n",
              "  "
            ]
          },
          "metadata": {}
        },
        {
          "output_type": "display_data",
          "data": {
            "text/plain": [
              "<IPython.core.display.Javascript object>"
            ],
            "application/javascript": [
              "download(\"download_07a208ae-aac6-40cb-9848-3a2fa52ba961\", \"sars_cov2_aligned.fasta.treefile\", 364)"
            ]
          },
          "metadata": {}
        }
      ]
    }
  ]
}